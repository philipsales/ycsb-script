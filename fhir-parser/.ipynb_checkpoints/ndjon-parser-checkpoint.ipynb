{
 "cells": [
  {
   "cell_type": "code",
   "execution_count": 37,
   "metadata": {},
   "outputs": [],
   "source": [
    "import sys\n",
    "import os\n",
    "import pandas as pd\n",
    "import json\n",
    "import logging\n",
    "import pandas_profiling"
   ]
  },
  {
   "cell_type": "code",
   "execution_count": 38,
   "metadata": {},
   "outputs": [],
   "source": [
    "def create_directory(dirName):\n",
    "    try:\n",
    "        # Create target Directory\n",
    "        os.mkdir(dirName)\n",
    "        print(\"Directory \" , dirName ,  \" Created \") \n",
    "    except FileExistsError:\n",
    "        print(\"Directory \" , dirName ,  \" already exists\")"
   ]
  },
  {
   "cell_type": "code",
   "execution_count": 39,
   "metadata": {},
   "outputs": [
    {
     "name": "stdout",
     "output_type": "stream",
     "text": [
      "Directory  DiagnosticReport  already exists\n"
     ]
    }
   ],
   "source": [
    "filename = \"563.DiagnosticReport.ndjson\"\n",
    "fhir_resource = filename.split('.')[1]\n",
    "\n",
    "create_directory(fhir_resource)\n",
    "directory = fhir_resource + '/'\n",
    "\n",
    "with open(filename) as infile:\n",
    "    index = 0\n",
    "    for line in infile:\n",
    "        #print(line)\n",
    "        f = open( directory + str(index) + '.' + fhir_resource + '.json', 'w')\n",
    "        print(index)\n",
    "        f.write(line)\n",
    "        f.close()\n",
    "        index += 1"
   ]
  }
 ],
 "metadata": {
  "kernelspec": {
   "display_name": "Python 3",
   "language": "python",
   "name": "python3"
  },
  "language_info": {
   "codemirror_mode": {
    "name": "ipython",
    "version": 3
   },
   "file_extension": ".py",
   "mimetype": "text/x-python",
   "name": "python",
   "nbconvert_exporter": "python",
   "pygments_lexer": "ipython3",
   "version": "3.6.2"
  }
 },
 "nbformat": 4,
 "nbformat_minor": 2
}
